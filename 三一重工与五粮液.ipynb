{
 "cells": [
  {
   "cell_type": "code",
   "execution_count": 1,
   "metadata": {},
   "outputs": [],
   "source": [
    "import matplotlib\n",
    "import matplotlib.pyplot as plt\n",
    "%matplotlib inline\n",
    "import numpy as np\n",
    "import pandas as pd "
   ]
  },
  {
   "cell_type": "code",
   "execution_count": 2,
   "metadata": {},
   "outputs": [],
   "source": [
    "wuliang=pd.read_csv('C:\\\\Users\\\\kevin\\\\Desktop\\\\五粮液.csv')\n",
    "wuliang=wuliang/100\n",
    "wuliang=wuliang.to_numpy()"
   ]
  },
  {
   "cell_type": "code",
   "execution_count": 3,
   "metadata": {},
   "outputs": [],
   "source": [
    "sanyi=pd.read_csv('C:\\\\Users\\\\kevin\\\\Desktop\\\\三一重工.csv')\n",
    "sanyi=sanyi/100\n",
    "sanyi=sanyi.to_numpy()"
   ]
  },
  {
   "cell_type": "code",
   "execution_count": 4,
   "metadata": {},
   "outputs": [],
   "source": [
    "shangzheng=pd.read_csv('C:\\\\Users\\\\kevin\\\\Desktop\\\\上证指数.csv')\n",
    "shangzheng=shangzheng/100\n",
    "shangzheng=shangzheng.to_numpy()"
   ]
  },
  {
   "cell_type": "code",
   "execution_count": 5,
   "metadata": {},
   "outputs": [
    {
     "data": {
      "text/plain": [
       "array([[ 1.97280e-02, -2.08940e-02,  1.02750e-02, -2.73800e-03,\n",
       "        -1.90230e-02,  1.39900e-03, -6.18900e-03,  9.24100e-03,\n",
       "         3.78200e-03,  3.88660e-02,  5.15370e-02, -2.54100e-03,\n",
       "        -7.28000e-04, -3.47840e-02,  3.77400e-03, -1.63530e-02,\n",
       "         9.36400e-03,  6.62600e-03,  1.57980e-02, -1.88850e-02,\n",
       "        -3.20800e-03,  2.27200e-03, -7.17800e-03, -1.33180e-02,\n",
       "        -2.42960e-02,  7.11500e-03, -1.96200e-03, -8.84800e-03,\n",
       "        -5.15800e-03,  1.45560e-02, -1.84750e-02, -1.96240e-02,\n",
       "         1.18460e-02, -4.64300e-03, -5.88100e-03,  2.06040e-02,\n",
       "        -3.39800e-03,  1.66470e-02, -2.17010e-02,  6.81590e-02,\n",
       "        -1.45370e-02, -5.36400e-03,  3.77500e-02,  3.93470e-02,\n",
       "        -1.41070e-02, -2.53600e-03,  2.36100e-03,  9.06000e-04,\n",
       "         4.01810e-02,  1.93140e-02, -2.21920e-02,  5.27230e-02,\n",
       "         1.45940e-02,  5.75350e-02,  7.73000e-04,  2.03860e-02,\n",
       "         2.86060e-02, -2.29550e-02,  5.22590e-02, -2.86200e-03,\n",
       "        -9.47300e-03, -1.39110e-02,  6.61300e-03,  4.02920e-02,\n",
       "        -3.28370e-02,  1.65410e-02,  2.05540e-02,  6.15380e-02,\n",
       "         1.77870e-02,  6.73100e-03, -1.00300e-02, -3.92260e-02,\n",
       "        -3.42030e-02,  6.38300e-02, -9.21100e-03,  1.59360e-02,\n",
       "         8.49700e-03,  2.11280e-02,  1.00025e-01, -7.61600e-03,\n",
       "        -3.48800e-03, -9.33500e-03,  1.35450e-02, -3.76530e-02,\n",
       "         2.00460e-02,  4.15530e-02,  2.63700e-02,  5.20490e-02,\n",
       "         1.65260e-02, -5.28100e-03, -6.87100e-03,  5.06290e-02,\n",
       "         1.76590e-02,  7.86270e-02, -2.74500e-02, -6.72900e-02,\n",
       "        -1.80400e-03,  9.83700e-03,  1.60040e-02,  1.37950e-02,\n",
       "        -1.23530e-02, -6.64500e-03, -5.21300e-03,  3.14450e-02,\n",
       "        -7.76500e-03, -2.80190e-02,  1.66000e-02,  1.96000e-04,\n",
       "         6.84000e-04, -1.00039e-01,  4.16850e-02, -8.34000e-04,\n",
       "        -4.24490e-02,  8.04920e-02,  4.43550e-02, -1.08110e-02,\n",
       "         7.24040e-02,  7.28000e-04, -3.20060e-02, -2.31070e-02,\n",
       "         1.92300e-03, -8.54100e-03, -3.36850e-02,  1.19200e-02,\n",
       "         9.70100e-03,  1.07840e-02,  1.40640e-02, -1.35820e-02,\n",
       "        -1.82290e-02,  2.07400e-03, -2.23730e-02, -1.41100e-03,\n",
       "        -6.06000e-04,  3.23770e-02,  8.47270e-02, -1.22990e-02,\n",
       "        -7.52700e-03, -1.72280e-02, -1.20050e-02,  3.66400e-03,\n",
       "         1.74870e-02,  6.67610e-02,  8.90000e-05,  1.84100e-02,\n",
       "        -1.39100e-03, -9.39900e-03,  3.05750e-02,  5.54100e-03,\n",
       "         6.82490e-02,  1.58730e-02, -3.19530e-02, -6.61800e-03,\n",
       "         5.45940e-02, -2.14160e-02, -8.10800e-03,  3.41300e-03,\n",
       "        -2.31750e-02,  1.68420e-02, -3.90200e-03, -1.20710e-02,\n",
       "         1.62000e-04, -2.10360e-02,  9.42100e-03,  1.07250e-02,\n",
       "        -2.75420e-02, -4.58100e-03,  1.82430e-02, -3.53400e-03,\n",
       "         2.06190e-02, -6.86900e-03, -1.78190e-02, -1.39180e-02,\n",
       "        -7.64500e-03, -9.90500e-03,  3.70240e-02, -1.97890e-02,\n",
       "         1.37950e-02, -2.07430e-02,  4.08410e-02, -4.39600e-03,\n",
       "         2.90270e-02,  1.03300e-03,  2.54000e-03,  1.26680e-02,\n",
       "         1.32130e-02, -1.34270e-02,  2.07270e-02, -3.06500e-03,\n",
       "        -2.06000e-02,  3.89260e-02,  1.16330e-02,  2.29990e-02,\n",
       "         3.28470e-02,  2.75600e-03, -2.74900e-03, -2.25440e-02,\n",
       "         4.26600e-03,  7.99100e-03, -5.78500e-03, -1.40090e-02,\n",
       "        -5.82150e-02,  1.77160e-02, -4.78900e-03,  4.73600e-03,\n",
       "         3.05610e-02, -4.72100e-03,  1.42310e-02, -1.45430e-02,\n",
       "         1.23100e-02,  2.20000e-04, -1.78700e-02, -2.23700e-03,\n",
       "        -2.98950e-02,  2.28040e-02, -7.15600e-03, -6.22100e-03,\n",
       "         1.98500e-03, -2.97100e-03,  1.39840e-02, -1.92930e-02,\n",
       "         1.30600e-03, -2.30240e-02,  6.44100e-03,  6.86900e-03,\n",
       "        -1.30230e-02, -2.19130e-02,  2.94710e-02,  1.44310e-02,\n",
       "         1.11500e-02, -4.18300e-03,  8.62900e-03,  1.22650e-02,\n",
       "         2.16900e-03,  2.16400e-03, -1.22880e-02,  4.07100e-03,\n",
       "         1.06630e-02, -1.38940e-02,  4.89800e-03,  9.37200e-03,\n",
       "        -5.20000e-04, -9.06700e-03, -2.47500e-03,  3.75900e-03,\n",
       "         3.74500e-03, -2.53700e-03, -3.50890e-02, -2.09400e-03,\n",
       "         1.56950e-02,  5.89000e-03, -5.17100e-03, -2.49220e-02,\n",
       "        -4.31200e-03, -7.55900e-03,  1.91210e-02, -2.25800e-03,\n",
       "         2.20040e-02, -3.74100e-03,  2.83500e-03, -1.55890e-02,\n",
       "        -8.07300e-03,  1.36170e-02, -5.32700e-03,  1.10220e-02,\n",
       "         5.29800e-03, -8.24800e-03, -5.85200e-03, -7.43600e-03,\n",
       "         4.37000e-03, -4.66200e-03,  3.90000e-04,  6.63300e-03,\n",
       "         2.96120e-02,  1.43100e-03, -6.99200e-03, -1.15840e-02,\n",
       "        -1.03410e-02,  1.31600e-03, -3.71000e-03,  1.45860e-02,\n",
       "         2.17940e-02,  4.52030e-02, -7.87600e-03,  1.61660e-02,\n",
       "        -9.94000e-04, -1.50010e-02, -7.14500e-03, -3.59120e-02,\n",
       "        -6.93700e-03, -4.20650e-02, -1.00032e-01,  8.45500e-03,\n",
       "         2.62880e-02,  1.39560e-02,  1.20020e-02,  4.56100e-03,\n",
       "         3.02150e-02, -2.40400e-03, -2.81100e-03, -5.71900e-03,\n",
       "         7.04900e-03, -7.32100e-03,  2.11520e-02,  3.29370e-02,\n",
       "        -1.15300e-03, -2.23080e-02, -1.41620e-02, -9.57700e-03,\n",
       "         1.77280e-02, -4.51310e-02,  1.69980e-02,  1.40240e-02,\n",
       "         7.23600e-03,  6.33030e-02, -2.34980e-02, -2.89840e-02,\n",
       "         3.49960e-02, -6.27300e-03, -2.97150e-02, -2.72930e-02,\n",
       "        -5.79120e-02, -2.71860e-02, -4.24530e-02, -5.09340e-02,\n",
       "         6.26780e-02, -3.68630e-02,  4.34410e-02,  4.53920e-02,\n",
       "        -9.65000e-04,  1.68580e-02, -2.22780e-02,  1.73980e-02,\n",
       "        -1.73600e-03,  1.90430e-02,  2.81600e-03,  5.63310e-02,\n",
       "         9.18300e-03, -2.39500e-03,  1.23220e-02, -1.20140e-02,\n",
       "         2.76000e-02, -4.20400e-03, -1.41510e-02,  2.15700e-02,\n",
       "         3.80400e-03, -2.19630e-02,  3.02840e-02,  6.06300e-03,\n",
       "         2.36500e-03,  9.89300e-03,  4.74760e-02, -2.51800e-02,\n",
       "         1.99300e-03,  1.79720e-02,  2.67710e-02,  6.97600e-03,\n",
       "        -7.34800e-03,  7.40200e-03,  2.16930e-02,  2.05500e-03,\n",
       "        -7.38200e-03,  4.11100e-02,  1.52100e-03, -3.76400e-03,\n",
       "         5.50200e-03, -4.89850e-02,  1.92720e-02,  5.30500e-03,\n",
       "        -1.11630e-02,  0.00000e+00,  1.39570e-02,  7.01080e-02,\n",
       "         1.13500e-03, -3.33800e-03,  3.85500e-03,  7.80600e-03,\n",
       "         3.24800e-03,  1.24530e-02, -4.30000e-04, -1.51960e-02,\n",
       "         8.93400e-03, -2.78640e-02,  4.33100e-03, -1.14160e-02,\n",
       "         1.59100e-02,  4.55290e-02, -2.23500e-03,  3.05520e-02,\n",
       "         3.75000e-03, -6.58300e-03,  2.16120e-02,  6.34640e-02,\n",
       "         4.12680e-02, -4.06400e-03,  2.17250e-02,  4.70390e-02,\n",
       "         7.28100e-03,  1.77000e-03,  1.61010e-02,  5.41060e-02,\n",
       "         1.23740e-02,  1.38070e-02, -9.99780e-02,  1.90020e-02,\n",
       "        -1.80630e-02,  1.93380e-02,  1.61490e-02,  5.60100e-03,\n",
       "        -4.13200e-02,  1.34560e-02,  4.85060e-02,  4.57900e-03,\n",
       "         6.23300e-03,  5.45500e-03,  1.01100e-03, -8.81900e-03,\n",
       "         7.78500e-03, -2.97040e-02, -1.78180e-02, -6.36900e-03,\n",
       "         1.48590e-02, -1.21050e-02,  2.08300e-03,  2.90000e-02,\n",
       "         3.33020e-02,  2.63600e-03,  7.39000e-03, -2.59230e-02,\n",
       "         9.05600e-03,  3.02200e-02,  4.71110e-02,  4.45700e-03,\n",
       "         6.04300e-03,  1.01650e-02, -2.07900e-03, -1.56670e-02,\n",
       "        -5.24900e-03,  1.54890e-02, -3.52830e-02, -1.44640e-02,\n",
       "        -2.18610e-02, -2.22140e-02,  2.85710e-02,  2.09680e-02,\n",
       "         9.65400e-03,  1.08700e-03, -1.87120e-02, -1.49100e-02,\n",
       "         3.08560e-02, -2.01290e-02, -8.89300e-03, -1.60610e-02,\n",
       "        -1.37700e-02,  4.16100e-03,  1.34900e-02, -1.81700e-03,\n",
       "         5.78000e-03,  2.97290e-02,  6.23100e-02,  2.15100e-03,\n",
       "        -1.18460e-02, -2.04700e-03, -8.49700e-03, -2.95500e-03,\n",
       "         2.03230e-02,  3.27800e-03, -1.24000e-04, -2.11380e-02,\n",
       "        -1.69890e-02,  3.82600e-03,  2.77520e-02,  4.17530e-02,\n",
       "        -2.26000e-02,  5.52500e-03,  1.91290e-02,  1.03830e-02,\n",
       "         2.53360e-02, -4.24000e-04,  4.12650e-02,  1.03700e-02,\n",
       "        -1.42960e-02, -4.64900e-03, -9.90100e-03,  3.01890e-02,\n",
       "        -1.42860e-02, -1.99930e-02]])"
      ]
     },
     "execution_count": 5,
     "metadata": {},
     "output_type": "execute_result"
    }
   ],
   "source": [
    "sanyi.reshape(1,486)\n",
    "wuliang.reshape(1,486)"
   ]
  },
  {
   "cell_type": "code",
   "execution_count": 6,
   "metadata": {},
   "outputs": [],
   "source": [
    "mean_sanyi=np.mean(sanyi)\n",
    "mean_wuliang=np.mean(wuliang)"
   ]
  },
  {
   "cell_type": "code",
   "execution_count": 7,
   "metadata": {},
   "outputs": [
    {
     "data": {
      "text/plain": [
       "0.0028528353909465023"
      ]
     },
     "execution_count": 7,
     "metadata": {},
     "output_type": "execute_result"
    }
   ],
   "source": [
    "mean_sanyi"
   ]
  },
  {
   "cell_type": "code",
   "execution_count": 8,
   "metadata": {},
   "outputs": [
    {
     "data": {
      "text/plain": [
       "0.0037665925925925926"
      ]
     },
     "execution_count": 8,
     "metadata": {},
     "output_type": "execute_result"
    }
   ],
   "source": [
    "mean_wuliang"
   ]
  },
  {
   "cell_type": "code",
   "execution_count": 9,
   "metadata": {},
   "outputs": [],
   "source": [
    "std_wuliang=np.std(wuliang,ddof=1)\n",
    "std_sanyi=np.std(sanyi,ddof=1)"
   ]
  },
  {
   "cell_type": "code",
   "execution_count": 10,
   "metadata": {},
   "outputs": [
    {
     "data": {
      "text/plain": [
       "0.023465201152767862"
      ]
     },
     "execution_count": 10,
     "metadata": {},
     "output_type": "execute_result"
    }
   ],
   "source": [
    "std_sanyi"
   ]
  },
  {
   "cell_type": "code",
   "execution_count": 11,
   "metadata": {},
   "outputs": [
    {
     "data": {
      "text/plain": [
       "0.024744836377372865"
      ]
     },
     "execution_count": 11,
     "metadata": {},
     "output_type": "execute_result"
    }
   ],
   "source": [
    "std_wuliang"
   ]
  },
  {
   "cell_type": "code",
   "execution_count": 12,
   "metadata": {},
   "outputs": [
    {
     "name": "stdout",
     "output_type": "stream",
     "text": [
      "[0.00027364]\n"
     ]
    }
   ],
   "source": [
    "sum = 0\n",
    "for i in range(0, len(wuliang)):\n",
    "    sum += ((wuliang[i] - mean_wuliang) * (sanyi[i] -mean_sanyi))\n",
    "cov=sum/(len(wuliang)-1)\n",
    "print(cov)    "
   ]
  },
  {
   "cell_type": "code",
   "execution_count": 13,
   "metadata": {},
   "outputs": [
    {
     "data": {
      "text/plain": [
       "array([0.47126968])"
      ]
     },
     "execution_count": 13,
     "metadata": {},
     "output_type": "execute_result"
    }
   ],
   "source": [
    "coefficient=cov/(std_wuliang*std_sanyi)\n",
    "coefficient"
   ]
  },
  {
   "cell_type": "markdown",
   "metadata": {},
   "source": [
    "绘制投资回报曲线"
   ]
  },
  {
   "cell_type": "code",
   "execution_count": 14,
   "metadata": {},
   "outputs": [],
   "source": [
    "W_wuliang=np.linspace(0,1,20)\n",
    "W_sanyi=1-W_wuliang"
   ]
  },
  {
   "cell_type": "code",
   "execution_count": 15,
   "metadata": {},
   "outputs": [],
   "source": [
    "E_all=W_wuliang*mean_wuliang+W_sanyi*mean_sanyi\n",
    "std_all=np.sqrt((W_wuliang*std_wuliang)**2+(W_sanyi*std_sanyi)**2+2*(W_sanyi*std_sanyi)*(W_wuliang*std_wuliang)*coefficient)"
   ]
  },
  {
   "cell_type": "code",
   "execution_count": 16,
   "metadata": {},
   "outputs": [
    {
     "data": {
      "text/plain": [
       "Text(0, 0.5, 'Expected return')"
      ]
     },
     "execution_count": 16,
     "metadata": {},
     "output_type": "execute_result"
    },
    {
     "data": {
      "image/png": "[encoded data removed]",
      "text/plain": [
       "<Figure size 432x288 with 1 Axes>"
      ]
     },
     "metadata": {
      "needs_background": "light"
     },
     "output_type": "display_data"
    }
   ],
   "source": [
    "plt.plot(std_all,E_all)\n",
    "plt.xlabel('Standard deviation')\n",
    "plt.ylabel('Expected return')"
   ]
  },
  {
   "cell_type": "code",
   "execution_count": 17,
   "metadata": {},
   "outputs": [],
   "source": [
    "r=np.array([0.00136])"
   ]
  },
  {
   "cell_type": "code",
   "execution_count": 18,
   "metadata": {},
   "outputs": [],
   "source": [
    "R_wuliang=mean_wuliang-r\n",
    "R_sanyi=mean_sanyi-r"
   ]
  },
  {
   "cell_type": "code",
   "execution_count": 19,
   "metadata": {},
   "outputs": [
    {
     "data": {
      "text/plain": [
       "array([0.78199336])"
      ]
     },
     "execution_count": 19,
     "metadata": {},
     "output_type": "execute_result"
    }
   ],
   "source": [
    "B_wuliang=(R_wuliang*std_sanyi**2-R_sanyi*std_sanyi*std_wuliang*coefficient)/(R_wuliang*std_sanyi**2+R_sanyi*std_wuliang**2-(R_sanyi+R_wuliang)*std_sanyi*std_wuliang*coefficient)\n",
    "B_wuliang"
   ]
  },
  {
   "cell_type": "code",
   "execution_count": 20,
   "metadata": {},
   "outputs": [],
   "source": [
    "B_sanyi=1-B_wuliang"
   ]
  },
  {
   "cell_type": "code",
   "execution_count": 21,
   "metadata": {},
   "outputs": [
    {
     "data": {
      "text/plain": [
       "array([0.00356739])"
      ]
     },
     "execution_count": 21,
     "metadata": {},
     "output_type": "execute_result"
    }
   ],
   "source": [
    "B_all=B_wuliang*mean_wuliang+B_sanyi*mean_sanyi\n",
    "B_all"
   ]
  },
  {
   "cell_type": "code",
   "execution_count": 22,
   "metadata": {},
   "outputs": [
    {
     "data": {
      "text/plain": [
       "array([0.02222393])"
      ]
     },
     "execution_count": 22,
     "metadata": {},
     "output_type": "execute_result"
    }
   ],
   "source": [
    "B_std=np.sqrt((B_wuliang*std_wuliang)**2+(B_sanyi*std_sanyi)**2+2*(B_sanyi*std_sanyi)*(B_wuliang*std_wuliang)*coefficient)\n",
    "B_std"
   ]
  },
  {
   "cell_type": "code",
   "execution_count": 23,
   "metadata": {},
   "outputs": [
    {
     "data": {
      "text/plain": [
       "array([0.09932481])"
      ]
     },
     "execution_count": 23,
     "metadata": {},
     "output_type": "execute_result"
    }
   ],
   "source": [
    "sharpe_ratio=(B_all-r)/B_std\n",
    "sharpe_ratio"
   ]
  },
  {
   "cell_type": "code",
   "execution_count": 24,
   "metadata": {},
   "outputs": [
    {
     "data": {
      "text/plain": [
       "Text(0, 0.5, 'Expected return')"
      ]
     },
     "execution_count": 24,
     "metadata": {},
     "output_type": "execute_result"
    },
    {
     "data": {
      "image/png": "[encoded data removed]",
      "text/plain": [
       "<Figure size 432x288 with 1 Axes>"
      ]
     },
     "metadata": {
      "needs_background": "light"
     },
     "output_type": "display_data"
    }
   ],
   "source": [
    "x=np.linspace(0,0.1,20)\n",
    "y=sharpe_ratio*x+r\n",
    "plt.plot(x,y,linestyle=':')\n",
    "plt.plot(std_all,E_all)\n",
    "plt.xlabel('Standard deviation')\n",
    "plt.ylabel('Expected return')"
   ]
  },
  {
   "cell_type": "markdown",
   "metadata": {},
   "source": [
    "第二project"
   ]
  },
  {
   "cell_type": "code",
   "execution_count": 25,
   "metadata": {},
   "outputs": [],
   "source": [
    "R_sanyi=sanyi-r\n",
    "R_shangzheng=shangzheng-r"
   ]
  },
  {
   "cell_type": "code",
   "execution_count": 26,
   "metadata": {},
   "outputs": [],
   "source": [
    "from sklearn.linear_model import LinearRegression"
   ]
  },
  {
   "cell_type": "code",
   "execution_count": 27,
   "metadata": {},
   "outputs": [],
   "source": [
    "R_sanyi_1=R_sanyi.reshape(-1,1)\n",
    "R_shangzheng_1=R_shangzheng.reshape(-1,1)"
   ]
  },
  {
   "cell_type": "code",
   "execution_count": 28,
   "metadata": {},
   "outputs": [
    {
     "name": "stdout",
     "output_type": "stream",
     "text": [
      "[[1.19472694]] [0.00236199]\n"
     ]
    }
   ],
   "source": [
    "reg=LinearRegression().fit(R_shangzheng_1,R_sanyi_1)\n",
    "a,b=reg.coef_,reg.intercept_\n",
    "print(a,b)"
   ]
  },
  {
   "cell_type": "code",
   "execution_count": 29,
   "metadata": {},
   "outputs": [],
   "source": [
    "x=np.linspace(-0.1,0.1,20)\n",
    "y=a*x+b"
   ]
  },
  {
   "cell_type": "code",
   "execution_count": 30,
   "metadata": {},
   "outputs": [
    {
     "data": {
      "image/png": "[encoded data removed]",
      "text/plain": [
       "<Figure size 432x288 with 1 Axes>"
      ]
     },
     "metadata": {
      "needs_background": "light"
     },
     "output_type": "display_data"
    }
   ],
   "source": [
    "plt.axhline(y=0, color='black', linestyle='-')\n",
    "plt.axvline(x=0,color='black', linestyle='-')\n",
    "plt.plot(x,y.reshape(20,1),color='r',linestyle=':')\n",
    "plt.scatter(R_shangzheng,R_sanyi,s=0.5)\n",
    "plt.show()"
   ]
  },
  {
   "cell_type": "code",
   "execution_count": 31,
   "metadata": {},
   "outputs": [],
   "source": [
    "import statsmodels.api as sm"
   ]
  },
  {
   "cell_type": "code",
   "execution_count": 32,
   "metadata": {},
   "outputs": [],
   "source": [
    "R_shangzheng_1= sm.add_constant(R_shangzheng_1)\n",
    "model = sm.OLS(R_sanyi_1,R_shangzheng_1)\n",
    "clf = model.fit()"
   ]
  },
  {
   "cell_type": "code",
   "execution_count": 33,
   "metadata": {},
   "outputs": [
    {
     "data": {
      "text/html": [
       "<table class=\"simpletable\">\n",
       "<caption>OLS Regression Results</caption>\n",
       "<tr>\n",
       "  <th>Dep. Variable:</th>            <td>y</td>        <th>  R-squared:         </th> <td>   0.397</td>\n",
       "</tr>\n",
       "<tr>\n",
       "  <th>Model:</th>                   <td>OLS</td>       <th>  Adj. R-squared:    </th> <td>   0.395</td>\n",
       "</tr>\n",
       "<tr>\n",
       "  <th>Method:</th>             <td>Least Squares</td>  <th>  F-statistic:       </th> <td>   318.1</td>\n",
       "</tr>\n",
       "<tr>\n",
       "  <th>Date:</th>             <td>Wed, 09 Dec 2020</td> <th>  Prob (F-statistic):</th> <td>4.68e-55</td>\n",
       "</tr>\n",
       "<tr>\n",
       "  <th>Time:</th>                 <td>21:19:45</td>     <th>  Log-Likelihood:    </th> <td>  1257.2</td>\n",
       "</tr>\n",
       "<tr>\n",
       "  <th>No. Observations:</th>      <td>   486</td>      <th>  AIC:               </th> <td>  -2510.</td>\n",
       "</tr>\n",
       "<tr>\n",
       "  <th>Df Residuals:</th>          <td>   484</td>      <th>  BIC:               </th> <td>  -2502.</td>\n",
       "</tr>\n",
       "<tr>\n",
       "  <th>Df Model:</th>              <td>     1</td>      <th>                     </th>     <td> </td>   \n",
       "</tr>\n",
       "<tr>\n",
       "  <th>Covariance Type:</th>      <td>nonrobust</td>    <th>                     </th>     <td> </td>   \n",
       "</tr>\n",
       "</table>\n",
       "<table class=\"simpletable\">\n",
       "<tr>\n",
       "    <td></td>       <th>coef</th>     <th>std err</th>      <th>t</th>      <th>P>|t|</th>  <th>[0.025</th>    <th>0.975]</th>  \n",
       "</tr>\n",
       "<tr>\n",
       "  <th>const</th> <td>    0.0024</td> <td>    0.001</td> <td>    2.849</td> <td> 0.005</td> <td>    0.001</td> <td>    0.004</td>\n",
       "</tr>\n",
       "<tr>\n",
       "  <th>x1</th>    <td>    1.1947</td> <td>    0.067</td> <td>   17.835</td> <td> 0.000</td> <td>    1.063</td> <td>    1.326</td>\n",
       "</tr>\n",
       "</table>\n",
       "<table class=\"simpletable\">\n",
       "<tr>\n",
       "  <th>Omnibus:</th>       <td>15.788</td> <th>  Durbin-Watson:     </th> <td>   2.066</td>\n",
       "</tr>\n",
       "<tr>\n",
       "  <th>Prob(Omnibus):</th> <td> 0.000</td> <th>  Jarque-Bera (JB):  </th> <td>  17.383</td>\n",
       "</tr>\n",
       "<tr>\n",
       "  <th>Skew:</th>          <td> 0.380</td> <th>  Prob(JB):          </th> <td>0.000168</td>\n",
       "</tr>\n",
       "<tr>\n",
       "  <th>Kurtosis:</th>      <td> 3.529</td> <th>  Cond. No.          </th> <td>    80.9</td>\n",
       "</tr>\n",
       "</table><br/><br/>Warnings:<br/>[1] Standard Errors assume that the covariance matrix of the errors is correctly specified."
      ],
      "text/plain": [
       "<class 'statsmodels.iolib.summary.Summary'>\n",
       "\"\"\"\n",
       "                            OLS Regression Results                            \n",
       "==============================================================================\n",
       "Dep. Variable:                      y   R-squared:                       0.397\n",
       "Model:                            OLS   Adj. R-squared:                  0.395\n",
       "Method:                 Least Squares   F-statistic:                     318.1\n",
       "Date:                Wed, 09 Dec 2020   Prob (F-statistic):           4.68e-55\n",
       "Time:                        21:19:45   Log-Likelihood:                 1257.2\n",
       "No. Observations:                 486   AIC:                            -2510.\n",
       "Df Residuals:                     484   BIC:                            -2502.\n",
       "Df Model:                           1                                         \n",
       "Covariance Type:            nonrobust                                         \n",
       "==============================================================================\n",
       "                 coef    std err          t      P>|t|      [0.025      0.975]\n",
       "------------------------------------------------------------------------------\n",
       "const          0.0024      0.001      2.849      0.005       0.001       0.004\n",
       "x1             1.1947      0.067     17.835      0.000       1.063       1.326\n",
       "==============================================================================\n",
       "Omnibus:                       15.788   Durbin-Watson:                   2.066\n",
       "Prob(Omnibus):                  0.000   Jarque-Bera (JB):               17.383\n",
       "Skew:                           0.380   Prob(JB):                     0.000168\n",
       "Kurtosis:                       3.529   Cond. No.                         80.9\n",
       "==============================================================================\n",
       "\n",
       "Warnings:\n",
       "[1] Standard Errors assume that the covariance matrix of the errors is correctly specified.\n",
       "\"\"\""
      ]
     },
     "execution_count": 33,
     "metadata": {},
     "output_type": "execute_result"
    }
   ],
   "source": [
    "clf.summary()"
   ]
  },
  {
   "cell_type": "code",
   "execution_count": 34,
   "metadata": {},
   "outputs": [],
   "source": [
    "R_wuliang=wuliang-r"
   ]
  },
  {
   "cell_type": "code",
   "execution_count": 35,
   "metadata": {},
   "outputs": [],
   "source": [
    "R_wuliang_1=R_wuliang.reshape(-1,1)"
   ]
  },
  {
   "cell_type": "code",
   "execution_count": 45,
   "metadata": {},
   "outputs": [],
   "source": [
    "R_shangzheng_1=R_shangzheng.reshape(-1,1)"
   ]
  },
  {
   "cell_type": "code",
   "execution_count": 39,
   "metadata": {},
   "outputs": [
    {
     "name": "stdout",
     "output_type": "stream",
     "text": [
      "[[1.31074959]] [0.00336015]\n"
     ]
    }
   ],
   "source": [
    "reg=LinearRegression().fit(R_shangzheng_1,R_wuliang_1)\n",
    "a1,b1=reg.coef_,reg.intercept_\n",
    "print(a1,b1)"
   ]
  },
  {
   "cell_type": "code",
   "execution_count": 40,
   "metadata": {},
   "outputs": [],
   "source": [
    "x1=np.linspace(-0.1,0.1,20)\n",
    "y1=a1*x+b1"
   ]
  },
  {
   "cell_type": "code",
   "execution_count": 41,
   "metadata": {},
   "outputs": [
    {
     "data": {
      "image/png": "[encoded data removed]",
      "text/plain": [
       "<Figure size 432x288 with 1 Axes>"
      ]
     },
     "metadata": {
      "needs_background": "light"
     },
     "output_type": "display_data"
    }
   ],
   "source": [
    "plt.axhline(y=0, color='black', linestyle='-')\n",
    "plt.axvline(x=0,color='black', linestyle='-')\n",
    "plt.plot(x1,y1.reshape(20,1),color='r',linestyle=':')\n",
    "plt.scatter(R_shangzheng,R_wuliang,s=0.5)\n",
    "plt.show()"
   ]
  },
  {
   "cell_type": "code",
   "execution_count": 42,
   "metadata": {},
   "outputs": [],
   "source": [
    "R_shangzheng_1= sm.add_constant(R_shangzheng_1)\n",
    "model = sm.OLS(R_wuliang_1,R_shangzheng_1)\n",
    "clf = model.fit()"
   ]
  },
  {
   "cell_type": "code",
   "execution_count": 43,
   "metadata": {},
   "outputs": [
    {
     "data": {
      "text/html": [
       "<table class=\"simpletable\">\n",
       "<caption>OLS Regression Results</caption>\n",
       "<tr>\n",
       "  <th>Dep. Variable:</th>            <td>y</td>        <th>  R-squared:         </th> <td>   0.429</td>\n",
       "</tr>\n",
       "<tr>\n",
       "  <th>Model:</th>                   <td>OLS</td>       <th>  Adj. R-squared:    </th> <td>   0.428</td>\n",
       "</tr>\n",
       "<tr>\n",
       "  <th>Method:</th>             <td>Least Squares</td>  <th>  F-statistic:       </th> <td>   364.0</td>\n",
       "</tr>\n",
       "<tr>\n",
       "  <th>Date:</th>             <td>Wed, 09 Dec 2020</td> <th>  Prob (F-statistic):</th> <td>6.35e-61</td>\n",
       "</tr>\n",
       "<tr>\n",
       "  <th>Time:</th>                 <td>21:22:37</td>     <th>  Log-Likelihood:    </th> <td>  1245.0</td>\n",
       "</tr>\n",
       "<tr>\n",
       "  <th>No. Observations:</th>      <td>   486</td>      <th>  AIC:               </th> <td>  -2486.</td>\n",
       "</tr>\n",
       "<tr>\n",
       "  <th>Df Residuals:</th>          <td>   484</td>      <th>  BIC:               </th> <td>  -2478.</td>\n",
       "</tr>\n",
       "<tr>\n",
       "  <th>Df Model:</th>              <td>     1</td>      <th>                     </th>     <td> </td>   \n",
       "</tr>\n",
       "<tr>\n",
       "  <th>Covariance Type:</th>      <td>nonrobust</td>    <th>                     </th>     <td> </td>   \n",
       "</tr>\n",
       "</table>\n",
       "<table class=\"simpletable\">\n",
       "<tr>\n",
       "    <td></td>       <th>coef</th>     <th>std err</th>      <th>t</th>      <th>P>|t|</th>  <th>[0.025</th>    <th>0.975]</th>  \n",
       "</tr>\n",
       "<tr>\n",
       "  <th>const</th> <td>    0.0034</td> <td>    0.001</td> <td>    3.952</td> <td> 0.000</td> <td>    0.002</td> <td>    0.005</td>\n",
       "</tr>\n",
       "<tr>\n",
       "  <th>x1</th>    <td>    1.3107</td> <td>    0.069</td> <td>   19.079</td> <td> 0.000</td> <td>    1.176</td> <td>    1.446</td>\n",
       "</tr>\n",
       "</table>\n",
       "<table class=\"simpletable\">\n",
       "<tr>\n",
       "  <th>Omnibus:</th>       <td>28.858</td> <th>  Durbin-Watson:     </th> <td>   1.955</td>\n",
       "</tr>\n",
       "<tr>\n",
       "  <th>Prob(Omnibus):</th> <td> 0.000</td> <th>  Jarque-Bera (JB):  </th> <td>  43.007</td>\n",
       "</tr>\n",
       "<tr>\n",
       "  <th>Skew:</th>          <td> 0.452</td> <th>  Prob(JB):          </th> <td>4.58e-10</td>\n",
       "</tr>\n",
       "<tr>\n",
       "  <th>Kurtosis:</th>      <td> 4.142</td> <th>  Cond. No.          </th> <td>    80.9</td>\n",
       "</tr>\n",
       "</table><br/><br/>Warnings:<br/>[1] Standard Errors assume that the covariance matrix of the errors is correctly specified."
      ],
      "text/plain": [
       "<class 'statsmodels.iolib.summary.Summary'>\n",
       "\"\"\"\n",
       "                            OLS Regression Results                            \n",
       "==============================================================================\n",
       "Dep. Variable:                      y   R-squared:                       0.429\n",
       "Model:                            OLS   Adj. R-squared:                  0.428\n",
       "Method:                 Least Squares   F-statistic:                     364.0\n",
       "Date:                Wed, 09 Dec 2020   Prob (F-statistic):           6.35e-61\n",
       "Time:                        21:22:37   Log-Likelihood:                 1245.0\n",
       "No. Observations:                 486   AIC:                            -2486.\n",
       "Df Residuals:                     484   BIC:                            -2478.\n",
       "Df Model:                           1                                         \n",
       "Covariance Type:            nonrobust                                         \n",
       "==============================================================================\n",
       "                 coef    std err          t      P>|t|      [0.025      0.975]\n",
       "------------------------------------------------------------------------------\n",
       "const          0.0034      0.001      3.952      0.000       0.002       0.005\n",
       "x1             1.3107      0.069     19.079      0.000       1.176       1.446\n",
       "==============================================================================\n",
       "Omnibus:                       28.858   Durbin-Watson:                   1.955\n",
       "Prob(Omnibus):                  0.000   Jarque-Bera (JB):               43.007\n",
       "Skew:                           0.452   Prob(JB):                     4.58e-10\n",
       "Kurtosis:                       4.142   Cond. No.                         80.9\n",
       "==============================================================================\n",
       "\n",
       "Warnings:\n",
       "[1] Standard Errors assume that the covariance matrix of the errors is correctly specified.\n",
       "\"\"\""
      ]
     },
     "execution_count": 43,
     "metadata": {},
     "output_type": "execute_result"
    }
   ],
   "source": [
    "clf.summary()"
   ]
  },
  {
   "cell_type": "markdown",
   "metadata": {},
   "source": [
    "standard error"
   ]
  },
  {
   "cell_type": "code",
   "execution_count": 55,
   "metadata": {},
   "outputs": [],
   "source": [
    "import math "
   ]
  },
  {
   "cell_type": "code",
   "execution_count": 61,
   "metadata": {},
   "outputs": [
    {
     "name": "stdout",
     "output_type": "stream",
     "text": [
      "[0.00737337]\n"
     ]
    }
   ],
   "source": [
    "se_1=0\n",
    "for x in range(486):\n",
    "    se_1+=(R_shangzheng_1[x]*1.31074959+0.00336015-R_sanyi_1[x])**2\n",
    "se_1=se_1/np.sqrt(486)    \n",
    "print(se_1)    "
   ]
  },
  {
   "cell_type": "code",
   "execution_count": 62,
   "metadata": {},
   "outputs": [
    {
     "data": {
      "text/plain": [
       "array([73.73368243])"
      ]
     },
     "execution_count": 62,
     "metadata": {},
     "output_type": "execute_result"
    }
   ],
   "source": [
    "se_1*10000 "
   ]
  },
  {
   "cell_type": "code",
   "execution_count": 65,
   "metadata": {},
   "outputs": [
    {
     "name": "stdout",
     "output_type": "stream",
     "text": [
      "[0.00775224]\n"
     ]
    }
   ],
   "source": [
    "se_2=0\n",
    "for x in range(486):\n",
    "    se_2+=(R_shangzheng_1[x]*1.19472694+0.00236199-R_wuliang_1[x])**2\n",
    "se_2=se_2/np.sqrt(486)    \n",
    "print(se_2)    "
   ]
  },
  {
   "cell_type": "code",
   "execution_count": 66,
   "metadata": {},
   "outputs": [
    {
     "data": {
      "text/plain": [
       "array([77.52236503])"
      ]
     },
     "execution_count": 66,
     "metadata": {},
     "output_type": "execute_result"
    }
   ],
   "source": [
    "se_2*10000 "
   ]
  }
 ],
 "metadata": {
  "kernelspec": {
   "display_name": "Python 3",
   "language": "python",
   "name": "python3"
  },
  "language_info": {
   "codemirror_mode": {
    "name": "ipython",
    "version": 3
   },
   "file_extension": ".py",
   "mimetype": "text/x-python",
   "name": "python",
   "nbconvert_exporter": "python",
   "pygments_lexer": "ipython3",
   "version": "3.7.3"
  }
 },
 "nbformat": 4,
 "nbformat_minor": 2
}
